{
 "cells": [
  {
   "cell_type": "code",
   "execution_count": 15,
   "metadata": {},
   "outputs": [],
   "source": [
    "from PyEMD import EEMD\n",
    "import numpy as np\n",
    "import pylab as plt\n",
    "import pandas as pd"
   ]
  },
  {
   "cell_type": "code",
   "execution_count": 16,
   "metadata": {},
   "outputs": [],
   "source": [
    "S = np.loadtxt('20181109_Read.csv', delimiter=',', dtype='float', skiprows=1, unpack=True)\n",
    "t = np.arange(len(S))"
   ]
  },
  {
   "cell_type": "code",
   "execution_count": 17,
   "metadata": {},
   "outputs": [],
   "source": [
    "# Assign EEMD to `eemd` variable\n",
    "eemd = EEMD()"
   ]
  },
  {
   "cell_type": "code",
   "execution_count": 18,
   "metadata": {
    "collapsed": true
   },
   "outputs": [],
   "source": [
    "# Say we want detect extrema using parabolic method\n",
    "emd = eemd.EMD\n",
    "emd.extrema_detection=\"parabol\""
   ]
  },
  {
   "cell_type": "code",
   "execution_count": null,
   "metadata": {},
   "outputs": [],
   "source": [
    "# Execute EEMD on S\n",
    "#eIMFs = eemd.eemd(S, t)\n",
    "eIMFs = eemd.eemd(S)\n",
    "nIMFs = eIMFs.shape[0]"
   ]
  },
  {
   "cell_type": "code",
   "execution_count": null,
   "metadata": {},
   "outputs": [],
   "source": [
    "eIMFs.shape"
   ]
  },
  {
   "cell_type": "code",
   "execution_count": null,
   "metadata": {
    "scrolled": false
   },
   "outputs": [],
   "source": [
    "eIMFs"
   ]
  },
  {
   "cell_type": "code",
   "execution_count": null,
   "metadata": {},
   "outputs": [],
   "source": [
    "nIMFs"
   ]
  },
  {
   "cell_type": "code",
   "execution_count": null,
   "metadata": {
    "scrolled": true
   },
   "outputs": [],
   "source": [
    "for n in range(nIMFs):\n",
    "    plt.figure(figsize=(18,20)) #(12,9)\n",
    "    plt.subplot(nIMFs+1, 1, n+2)\n",
    "    plt.plot(t, eIMFs[n], 'g')\n",
    "    plt.ylabel(\"eIMF %i\" %(n+1))\n",
    "    plt.locator_params(axis='y', nbins=5)"
   ]
  },
  {
   "cell_type": "code",
   "execution_count": null,
   "metadata": {},
   "outputs": [],
   "source": [
    "# Plot results\n",
    "plt.figure(figsize=(18,40)) #(12,9)\n",
    "plt.subplot(nIMFs+1, 1, 1)\n",
    "plt.plot(t, S, 'b')"
   ]
  },
  {
   "cell_type": "code",
   "execution_count": null,
   "metadata": {},
   "outputs": [],
   "source": [
    "nFiltered = int(0.8*nIMFs)\n",
    "filteredS = [sum(x) for x in zip(*eIMFs[range(1)])]\n",
    "np.savetxt(\"filteredS_read.csv\", filteredS, delimiter=\",\")\n",
    "np.savetxt(\"filteredS_read2.csv\", filteredS, delimiter=\",\")"
   ]
  },
  {
   "cell_type": "code",
   "execution_count": null,
   "metadata": {
    "collapsed": true
   },
   "outputs": [],
   "source": []
  },
  {
   "cell_type": "code",
   "execution_count": null,
   "metadata": {
    "collapsed": true
   },
   "outputs": [],
   "source": []
  }
 ],
 "metadata": {
  "kernelspec": {
   "display_name": "Python 3",
   "language": "python",
   "name": "python3"
  },
  "language_info": {
   "codemirror_mode": {
    "name": "ipython",
    "version": 3
   },
   "file_extension": ".py",
   "mimetype": "text/x-python",
   "name": "python",
   "nbconvert_exporter": "python",
   "pygments_lexer": "ipython3",
   "version": "3.6.3"
  }
 },
 "nbformat": 4,
 "nbformat_minor": 2
}
